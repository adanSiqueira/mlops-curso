{
 "cells": [
  {
   "cell_type": "code",
   "execution_count": 1,
   "id": "84e8df4c",
   "metadata": {},
   "outputs": [],
   "source": [
    "import requests"
   ]
  },
  {
   "cell_type": "code",
   "execution_count": 2,
   "id": "92d8c033",
   "metadata": {},
   "outputs": [],
   "source": [
    "url = 'http://127.0.0.1:5000/cotacao/'"
   ]
  },
  {
   "cell_type": "code",
   "execution_count": 3,
   "id": "ad70f8d4",
   "metadata": {},
   "outputs": [],
   "source": [
    "dados = {\n",
    "    \"tamanho\":240,\n",
    "    \"ano\":2008,\n",
    "    \"garagem\":1\n",
    "}"
   ]
  },
  {
   "cell_type": "code",
   "execution_count": 6,
   "id": "657cf9ec",
   "metadata": {},
   "outputs": [],
   "source": [
    "usuario = 'adan'\n",
    "senha = 'adan'"
   ]
  },
  {
   "cell_type": "code",
   "execution_count": 7,
   "id": "87fc2421",
   "metadata": {},
   "outputs": [],
   "source": [
    "response = requests.post(url, json = dados, auth = (usuario,senha))"
   ]
  },
  {
   "cell_type": "code",
   "execution_count": 8,
   "id": "6af391c1",
   "metadata": {},
   "outputs": [
    {
     "data": {
      "text/plain": [
       "200"
      ]
     },
     "execution_count": 8,
     "metadata": {},
     "output_type": "execute_result"
    }
   ],
   "source": [
    "response.status_code"
   ]
  },
  {
   "cell_type": "code",
   "execution_count": 9,
   "id": "af1fb90a",
   "metadata": {},
   "outputs": [
    {
     "data": {
      "text/plain": [
       "'{\\n  \"preco_estimado\": \"O Pre\\\\u00e7o estimado do im\\\\u00f3vel \\\\u00e9 279.671,27 $\"\\n}\\n'"
      ]
     },
     "execution_count": 9,
     "metadata": {},
     "output_type": "execute_result"
    }
   ],
   "source": [
    "response.text"
   ]
  },
  {
   "cell_type": "code",
   "execution_count": 11,
   "id": "97222df9",
   "metadata": {},
   "outputs": [
    {
     "data": {
      "text/plain": [
       "{'preco_estimado': 'O Preço estimado do imóvel é 279.671,27 $'}"
      ]
     },
     "execution_count": 11,
     "metadata": {},
     "output_type": "execute_result"
    }
   ],
   "source": [
    "response.json()"
   ]
  },
  {
   "cell_type": "code",
   "execution_count": null,
   "id": "33b5778a",
   "metadata": {},
   "outputs": [],
   "source": []
  }
 ],
 "metadata": {
  "kernelspec": {
   "display_name": "venv",
   "language": "python",
   "name": "python3"
  },
  "language_info": {
   "codemirror_mode": {
    "name": "ipython",
    "version": 3
   },
   "file_extension": ".py",
   "mimetype": "text/x-python",
   "name": "python",
   "nbconvert_exporter": "python",
   "pygments_lexer": "ipython3",
   "version": "3.13.3"
  }
 },
 "nbformat": 4,
 "nbformat_minor": 5
}
