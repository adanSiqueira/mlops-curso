{
 "cells": [
  {
   "cell_type": "code",
   "execution_count": 41,
   "id": "29a971de",
   "metadata": {},
   "outputs": [],
   "source": [
    "from textblob import TextBlob\n",
    "from googletrans import Translator"
   ]
  },
  {
   "cell_type": "code",
   "execution_count": 38,
   "id": "33091663",
   "metadata": {},
   "outputs": [
    {
     "data": {
      "text/plain": [
       "'Python is excellent for Machine Learning'"
      ]
     },
     "execution_count": 38,
     "metadata": {},
     "output_type": "execute_result"
    }
   ],
   "source": [
    "async def translator(frase):\n",
    "    translator = Translator()\n",
    "    tb_en = await translator.translate(frase, dest='en')\n",
    "    #print(tb_en.text)\n",
    "    return tb_en.text\n",
    "\n",
    "frase = 'Python é excelente para Machine Learning'\n",
    "await translator(frase)"
   ]
  },
  {
   "cell_type": "code",
   "execution_count": 39,
   "id": "dcc12517",
   "metadata": {},
   "outputs": [],
   "source": [
    "tb_en = TextBlob(await translator(frase))"
   ]
  },
  {
   "cell_type": "code",
   "execution_count": 40,
   "id": "2f5ff451",
   "metadata": {},
   "outputs": [
    {
     "data": {
      "text/plain": [
       "1.0"
      ]
     },
     "execution_count": 40,
     "metadata": {},
     "output_type": "execute_result"
    }
   ],
   "source": [
    "tb_en.sentiment.polarity"
   ]
  },
  {
   "cell_type": "code",
   "execution_count": null,
   "id": "aaffadf3",
   "metadata": {},
   "outputs": [],
   "source": []
  }
 ],
 "metadata": {
  "kernelspec": {
   "display_name": "Python 3",
   "language": "python",
   "name": "python3"
  },
  "language_info": {
   "codemirror_mode": {
    "name": "ipython",
    "version": 3
   },
   "file_extension": ".py",
   "mimetype": "text/x-python",
   "name": "python",
   "nbconvert_exporter": "python",
   "pygments_lexer": "ipython3",
   "version": "3.13.3"
  }
 },
 "nbformat": 4,
 "nbformat_minor": 5
}
